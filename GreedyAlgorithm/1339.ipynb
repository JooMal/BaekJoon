{
 "cells": [
  {
   "cell_type": "code",
   "execution_count": 11,
   "metadata": {},
   "outputs": [
    {
     "name": "stdout",
     "output_type": "stream",
     "text": [
      "2\n",
      "GCF\n",
      "ACDEB\n",
      "99437\n"
     ]
    }
   ],
   "source": [
    "# 단어수학\n",
    "\n",
    "n = int(input())\n",
    "word = [list(map(lambda x: ord(x)-65, input().rstrip())) for _ in range(n)]\n",
    "alpha = [0]*26\n",
    "\n",
    "for i in range(n) :\n",
    "    j = 0\n",
    "    for w in word[i][::-1] :\n",
    "        alpha[w] += 10 ** j\n",
    "        j += 1\n",
    "\n",
    "alpha.sort(reverse=True)\n",
    "n = 9\n",
    "res = 0\n",
    "for a in alpha :\n",
    "    res += (a*n)\n",
    "    n-=1\n",
    "    \n",
    "print(res)\n"
   ]
  },
  {
   "cell_type": "code",
   "execution_count": 2,
   "metadata": {},
   "outputs": [
    {
     "name": "stdout",
     "output_type": "stream",
     "text": [
      "[[0, 0, 0], [0, 0, 0]]\n"
     ]
    }
   ],
   "source": [
    "print(word)"
   ]
  },
  {
   "cell_type": "code",
   "execution_count": 4,
   "metadata": {},
   "outputs": [
    {
     "name": "stdout",
     "output_type": "stream",
     "text": [
      "ABC\n"
     ]
    },
    {
     "data": {
      "text/plain": [
       "<map at 0x20a30a829b0>"
      ]
     },
     "execution_count": 4,
     "metadata": {},
     "output_type": "execute_result"
    }
   ],
   "source": [
    "map(lambda x: ord(x)-65, input().rstrip())"
   ]
  },
  {
   "cell_type": "code",
   "execution_count": null,
   "metadata": {},
   "outputs": [],
   "source": []
  }
 ],
 "metadata": {
  "kernelspec": {
   "display_name": "Python 3",
   "language": "python",
   "name": "python3"
  },
  "language_info": {
   "codemirror_mode": {
    "name": "ipython",
    "version": 3
   },
   "file_extension": ".py",
   "mimetype": "text/x-python",
   "name": "python",
   "nbconvert_exporter": "python",
   "pygments_lexer": "ipython3",
   "version": "3.7.1"
  }
 },
 "nbformat": 4,
 "nbformat_minor": 2
}
